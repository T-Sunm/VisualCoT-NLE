{
 "cells": [
  {
   "cell_type": "code",
   "execution_count": 1,
   "id": "5112d9e7",
   "metadata": {},
   "outputs": [
    {
     "name": "stdout",
     "output_type": "stream",
     "text": [
      "============================================================\n",
      "🔍 NUMPY FILES (.npy)\n",
      "============================================================\n"
     ]
    },
    {
     "ename": "FileNotFoundError",
     "evalue": "[Errno 2] No such file or directory: 'data\\\\processed\\\\coco_clip_new\\\\coco_clip_vitb16_train2017_aokvqa_convertedidx_image.npy'",
     "output_type": "error",
     "traceback": [
      "\u001b[1;31m---------------------------------------------------------------------------\u001b[0m",
      "\u001b[1;31mFileNotFoundError\u001b[0m                         Traceback (most recent call last)",
      "Cell \u001b[1;32mIn[1], line 64\u001b[0m\n\u001b[0;32m     62\u001b[0m \u001b[38;5;28mprint\u001b[39m(\u001b[38;5;124m\"\u001b[39m\u001b[38;5;124m🔍 NUMPY FILES (.npy)\u001b[39m\u001b[38;5;124m\"\u001b[39m)\n\u001b[0;32m     63\u001b[0m \u001b[38;5;28mprint\u001b[39m(\u001b[38;5;124m\"\u001b[39m\u001b[38;5;124m=\u001b[39m\u001b[38;5;124m\"\u001b[39m\u001b[38;5;241m*\u001b[39m\u001b[38;5;241m60\u001b[39m)\n\u001b[1;32m---> 64\u001b[0m img_features \u001b[38;5;241m=\u001b[39m \u001b[43mpeek_npy\u001b[49m\u001b[43m(\u001b[49m\u001b[43mbase\u001b[49m\u001b[43m \u001b[49m\u001b[38;5;241;43m/\u001b[39;49m\u001b[43m \u001b[49m\u001b[38;5;124;43m\"\u001b[39;49m\u001b[38;5;124;43mcoco_clip_new/coco_clip_vitb16_train2017_aokvqa_convertedidx_image.npy\u001b[39;49m\u001b[38;5;124;43m\"\u001b[39;49m\u001b[43m)\u001b[49m\n\u001b[0;32m     65\u001b[0m q_features \u001b[38;5;241m=\u001b[39m peek_npy(base \u001b[38;5;241m/\u001b[39m \u001b[38;5;124m\"\u001b[39m\u001b[38;5;124mcoco_clip_new/coco_clip_vitb16_train2017_aokvqa_question.npy\u001b[39m\u001b[38;5;124m\"\u001b[39m)\n\u001b[0;32m     67\u001b[0m \u001b[38;5;66;03m# PKL files\u001b[39;00m\n",
      "Cell \u001b[1;32mIn[1], line 13\u001b[0m, in \u001b[0;36mpeek_npy\u001b[1;34m(file_path)\u001b[0m\n\u001b[0;32m     11\u001b[0m \u001b[38;5;28;01mdef\u001b[39;00m\u001b[38;5;250m \u001b[39m\u001b[38;5;21mpeek_npy\u001b[39m(file_path):\n\u001b[0;32m     12\u001b[0m \u001b[38;5;250m    \u001b[39m\u001b[38;5;124;03m\"\"\"Quick peek at .npy file.\"\"\"\u001b[39;00m\n\u001b[1;32m---> 13\u001b[0m     data \u001b[38;5;241m=\u001b[39m \u001b[43mnp\u001b[49m\u001b[38;5;241;43m.\u001b[39;49m\u001b[43mload\u001b[49m\u001b[43m(\u001b[49m\u001b[43mfile_path\u001b[49m\u001b[43m,\u001b[49m\u001b[43m \u001b[49m\u001b[43mallow_pickle\u001b[49m\u001b[38;5;241;43m=\u001b[39;49m\u001b[38;5;28;43;01mTrue\u001b[39;49;00m\u001b[43m)\u001b[49m\n\u001b[0;32m     14\u001b[0m     \u001b[38;5;28mprint\u001b[39m(\u001b[38;5;124mf\u001b[39m\u001b[38;5;124m\"\u001b[39m\u001b[38;5;124m📄 \u001b[39m\u001b[38;5;132;01m{\u001b[39;00mPath(file_path)\u001b[38;5;241m.\u001b[39mname\u001b[38;5;132;01m}\u001b[39;00m\u001b[38;5;124m\"\u001b[39m)\n\u001b[0;32m     15\u001b[0m     \u001b[38;5;28mprint\u001b[39m(\u001b[38;5;124mf\u001b[39m\u001b[38;5;124m\"\u001b[39m\u001b[38;5;124m   Shape: \u001b[39m\u001b[38;5;132;01m{\u001b[39;00mdata\u001b[38;5;241m.\u001b[39mshape\u001b[38;5;132;01m}\u001b[39;00m\u001b[38;5;124m | Dtype: \u001b[39m\u001b[38;5;132;01m{\u001b[39;00mdata\u001b[38;5;241m.\u001b[39mdtype\u001b[38;5;132;01m}\u001b[39;00m\u001b[38;5;124m | Size: \u001b[39m\u001b[38;5;132;01m{\u001b[39;00mdata\u001b[38;5;241m.\u001b[39mnbytes\u001b[38;5;241m/\u001b[39m(\u001b[38;5;241m1024\u001b[39m\u001b[38;5;241m*\u001b[39m\u001b[38;5;241m*\u001b[39m\u001b[38;5;241m2\u001b[39m)\u001b[38;5;132;01m:\u001b[39;00m\u001b[38;5;124m.1f\u001b[39m\u001b[38;5;132;01m}\u001b[39;00m\u001b[38;5;124mMB\u001b[39m\u001b[38;5;124m\"\u001b[39m)\n",
      "File \u001b[1;32md:\\Asus\\App\\miniconda\\workspace\\envs\\vctp-nle\\lib\\site-packages\\numpy\\lib\\npyio.py:427\u001b[0m, in \u001b[0;36mload\u001b[1;34m(file, mmap_mode, allow_pickle, fix_imports, encoding, max_header_size)\u001b[0m\n\u001b[0;32m    425\u001b[0m     own_fid \u001b[38;5;241m=\u001b[39m \u001b[38;5;28;01mFalse\u001b[39;00m\n\u001b[0;32m    426\u001b[0m \u001b[38;5;28;01melse\u001b[39;00m:\n\u001b[1;32m--> 427\u001b[0m     fid \u001b[38;5;241m=\u001b[39m stack\u001b[38;5;241m.\u001b[39menter_context(\u001b[38;5;28;43mopen\u001b[39;49m\u001b[43m(\u001b[49m\u001b[43mos_fspath\u001b[49m\u001b[43m(\u001b[49m\u001b[43mfile\u001b[49m\u001b[43m)\u001b[49m\u001b[43m,\u001b[49m\u001b[43m \u001b[49m\u001b[38;5;124;43m\"\u001b[39;49m\u001b[38;5;124;43mrb\u001b[39;49m\u001b[38;5;124;43m\"\u001b[39;49m\u001b[43m)\u001b[49m)\n\u001b[0;32m    428\u001b[0m     own_fid \u001b[38;5;241m=\u001b[39m \u001b[38;5;28;01mTrue\u001b[39;00m\n\u001b[0;32m    430\u001b[0m \u001b[38;5;66;03m# Code to distinguish from NumPy binary files and pickles.\u001b[39;00m\n",
      "\u001b[1;31mFileNotFoundError\u001b[0m: [Errno 2] No such file or directory: 'data\\\\processed\\\\coco_clip_new\\\\coco_clip_vitb16_train2017_aokvqa_convertedidx_image.npy'"
     ]
    }
   ],
   "source": [
    "# Notebook: Data Inspector\n",
    "import numpy as np\n",
    "import pickle\n",
    "import json\n",
    "from pathlib import Path\n",
    "\n",
    "# =============================================================================\n",
    "# Quick inspect functions\n",
    "# =============================================================================\n",
    "\n",
    "def peek_npy(file_path):\n",
    "    \"\"\"Quick peek at .npy file.\"\"\"\n",
    "    data = np.load(file_path, allow_pickle=True)\n",
    "    print(f\"📄 {Path(file_path).name}\")\n",
    "    print(f\"   Shape: {data.shape} | Dtype: {data.dtype} | Size: {data.nbytes/(1024**2):.1f}MB\")\n",
    "    if np.issubdtype(data.dtype, np.number):\n",
    "        print(f\"   Range: [{data.min():.3f}, {data.max():.3f}] | Mean: {data.mean():.3f}\")\n",
    "    print(f\"   Sample: {data[:2]}\\n\")\n",
    "    return data\n",
    "\n",
    "def peek_pkl(file_path):\n",
    "    \"\"\"Quick peek at .pkl file.\"\"\"\n",
    "    with open(file_path, 'rb') as f:\n",
    "        data = pickle.load(f)\n",
    "    print(f\"📄 {Path(file_path).name}\")\n",
    "    print(f\"   Type: {type(data).__name__}\")\n",
    "    \n",
    "    if isinstance(data, dict):\n",
    "        keys = list(data.keys())\n",
    "        print(f\"   Keys: {len(keys)} entries\")\n",
    "        print(f\"   Sample key: {keys[0]}\")\n",
    "        print(f\"   Sample value: {data[keys[0]]}\\n\")\n",
    "    elif isinstance(data, list):\n",
    "        print(f\"   Length: {len(data)}\")\n",
    "        print(f\"   Sample: {data[0]}\\n\")\n",
    "    return data\n",
    "\n",
    "def peek_json(file_path):\n",
    "    \"\"\"Quick peek at .json file.\"\"\"\n",
    "    with open(file_path, 'r', encoding='utf-8') as f:\n",
    "        data = json.load(f)\n",
    "    print(f\"📄 {Path(file_path).name}\")\n",
    "    print(f\"   Type: {type(data).__name__}\")\n",
    "    \n",
    "    if isinstance(data, dict):\n",
    "        print(f\"   Keys: {list(data.keys())}\")\n",
    "        first_key = list(data.keys())[0]\n",
    "        print(f\"   '{first_key}': {type(data[first_key]).__name__} with {len(data[first_key]) if hasattr(data[first_key], '__len__') else 'N/A'} items\\n\")\n",
    "    elif isinstance(data, list):\n",
    "        print(f\"   Length: {len(data)}\")\n",
    "        print(f\"   First item: {data[0] if data else 'Empty'}\\n\")\n",
    "    return data\n",
    "\n",
    "# =============================================================================\n",
    "# Inspect all files\n",
    "# =============================================================================\n",
    "\n",
    "base = Path(\"data/processed\")\n",
    "\n",
    "# NPY files\n",
    "print(\"=\"*60)\n",
    "print(\"🔍 NUMPY FILES (.npy)\")\n",
    "print(\"=\"*60)\n",
    "img_features = peek_npy(base / \"coco_clip_new/coco_clip_vitb16_train2017_aokvqa_convertedidx_image.npy\")\n",
    "q_features = peek_npy(base / \"coco_clip_new/coco_clip_vitb16_train2017_aokvqa_question.npy\")\n",
    "\n",
    "# PKL files\n",
    "print(\"=\"*60)\n",
    "print(\"🔍 PICKLE FILES (.pkl)\")\n",
    "print(\"=\"*60)\n",
    "obj_sim = peek_pkl(base / \"object_similarity/train_object_select_aokvqa_answer.pkl\")\n",
    "\n",
    "# JSON files\n",
    "print(\"=\"*60)\n",
    "print(\"🔍 JSON FILES (.json)\")\n",
    "print(\"=\"*60)\n",
    "line2sample = peek_json(base / \"coco_clip_new/aokvqa_qa_line2sample_idx_train2017.json\")\n",
    "captions = peek_json(base / \"captions_train2017.json\")\n",
    "\n",
    "print(\"✅ Done! Variables: img_features, q_features, obj_sim, line2sample, captions\")"
   ]
  }
 ],
 "metadata": {
  "kernelspec": {
   "display_name": "vctp-nle",
   "language": "python",
   "name": "python3"
  },
  "language_info": {
   "codemirror_mode": {
    "name": "ipython",
    "version": 3
   },
   "file_extension": ".py",
   "mimetype": "text/x-python",
   "name": "python",
   "nbconvert_exporter": "python",
   "pygments_lexer": "ipython3",
   "version": "3.10.18"
  }
 },
 "nbformat": 4,
 "nbformat_minor": 5
}
